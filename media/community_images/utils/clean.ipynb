{
 "cells": [
  {
   "cell_type": "markdown",
   "metadata": {},
   "source": [
    "# scripts to clean png files"
   ]
  },
  {
   "cell_type": "code",
   "execution_count": 1,
   "metadata": {},
   "outputs": [],
   "source": [
    "# imports\n",
    "import os\n",
    "import glob\n",
    "import json\n",
    "import pandas as pd"
   ]
  },
  {
   "cell_type": "code",
   "execution_count": 2,
   "metadata": {},
   "outputs": [],
   "source": [
    "current_path = os.getcwd()"
   ]
  },
  {
   "cell_type": "code",
   "execution_count": 3,
   "metadata": {},
   "outputs": [],
   "source": [
    "\"\"\"\n",
    "    Collects information based on filenames from collected images\n",
    "        and from reading csv data\n",
    "\"\"\"\n",
    "\n",
    "def get_community_data(file_paths:list[str], community_names:dict) -> list:\n",
    "    all_data = {}\n",
    "\n",
    "    for file_path in file_paths:\n",
    "        # reset dictionary\n",
    "        community_data = {\n",
    "        \"name\" : None,\n",
    "        \"filename\" : None, \n",
    "        }\n",
    "\n",
    "        # get metadata\n",
    "        picture = file_path.split(\"\\\\\")[-1]\n",
    "        comm_code = picture.split(\".\")[0]\n",
    "        comm_name = community_names.get(comm_code, \"?\")\n",
    "\n",
    "        # append data\n",
    "        community_data[\"name\"] = comm_name\n",
    "        community_data[\"filename\"] = picture\n",
    "        all_data[comm_code] = community_data   \n",
    "\n",
    "    return all_data"
   ]
  },
  {
   "cell_type": "code",
   "execution_count": 4,
   "metadata": {},
   "outputs": [],
   "source": [
    "# export to json\n",
    "def export_to_json(filename: str, all_data: dict) -> None:\n",
    "    patient_json = json.dumps(all_data, indent=2)\n",
    "\n",
    "    with open(filename, \"w\") as json_data:\n",
    "        json_data.write(patient_json)"
   ]
  },
  {
   "cell_type": "markdown",
   "metadata": {},
   "source": [
    "# call functions above"
   ]
  },
  {
   "cell_type": "code",
   "execution_count": 5,
   "metadata": {},
   "outputs": [],
   "source": [
    "\"\"\" read csv file \"\"\"\n",
    "comm_data = pd.read_csv(\"../../../Data/cleaned_calgary_communities_with_images.csv\")\n",
    "comm_data = comm_data.set_index(\"COMM_CODE\")[\"NAME\"].to_dict()"
   ]
  },
  {
   "cell_type": "code",
   "execution_count": 6,
   "metadata": {},
   "outputs": [],
   "source": [
    "\"\"\" create dictionary of pictures to access \"\"\"\n",
    "pictures = glob.glob(\"../*\") # list of pictures\n",
    "picture_data = get_community_data(pictures, comm_data)\n",
    "export_to_json(\"communities.json\", picture_data)"
   ]
  }
 ],
 "metadata": {
  "kernelspec": {
   "display_name": "Python 3",
   "language": "python",
   "name": "python3"
  },
  "language_info": {
   "codemirror_mode": {
    "name": "ipython",
    "version": 3
   },
   "file_extension": ".py",
   "mimetype": "text/x-python",
   "name": "python",
   "nbconvert_exporter": "python",
   "pygments_lexer": "ipython3",
   "version": "3.11.4"
  },
  "orig_nbformat": 4
 },
 "nbformat": 4,
 "nbformat_minor": 2
}
