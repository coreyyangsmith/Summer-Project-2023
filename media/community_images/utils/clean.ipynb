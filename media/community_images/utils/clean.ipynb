{
 "cells": [
  {
   "cell_type": "markdown",
   "metadata": {},
   "source": [
    "# scripts to clean png files"
   ]
  },
  {
   "cell_type": "code",
   "execution_count": 14,
   "metadata": {},
   "outputs": [],
   "source": [
    "# imports\n",
    "import os\n",
    "import glob\n",
    "import json\n",
    "import pandas as pd"
   ]
  },
  {
   "cell_type": "code",
   "execution_count": 15,
   "metadata": {},
   "outputs": [],
   "source": [
    "current_path = os.getcwd()"
   ]
  },
  {
   "cell_type": "code",
   "execution_count": 16,
   "metadata": {},
   "outputs": [],
   "source": [
    "\"\"\"\n",
    "    Collects information based on filenames from collected images\n",
    "        and from reading csv data\n",
    "\"\"\"\n",
    "\n",
    "def get_community_data(file_paths:list[str], community_names:dict) -> list:\n",
    "    all_data = {}\n",
    "\n",
    "    for file_path in file_paths:\n",
    "        # reset dictionary\n",
    "        community_data = {\n",
    "        \"name\" : None,\n",
    "        \"filename\" : None, \n",
    "        }\n",
    "\n",
    "        # get metadata\n",
    "        picture = file_path.split(\"/\")[-1]\n",
    "        comm_code = picture.split(\".\")[0]\n",
    "        comm_name = community_names.get(comm_code, \"?\")\n",
    "\n",
    "        # append data\n",
    "        community_data[\"name\"] = comm_name\n",
    "        community_data[\"filename\"] = picture\n",
    "        all_data[comm_code] = community_data   \n",
    "\n",
    "    return all_data"
   ]
  },
  {
   "cell_type": "code",
   "execution_count": 17,
   "metadata": {},
   "outputs": [],
   "source": [
    "# export to json\n",
    "def export_to_json(filename: str, all_data: dict) -> None:\n",
    "    patient_json = json.dumps(all_data, indent=2)\n",
    "\n",
    "    with open(filename, \"w\") as json_data:\n",
    "        json_data.write(patient_json)"
   ]
  },
  {
   "cell_type": "markdown",
   "metadata": {},
   "source": [
    "# call functions above"
   ]
  },
  {
   "cell_type": "code",
   "execution_count": 18,
   "metadata": {},
   "outputs": [
    {
     "name": "stdout",
     "output_type": "stream",
     "text": [
      "{'ERL': 'ERLTON', 'COA': 'COACH HILL', 'DIA': 'DIAMOND COVE', 'THO': 'THORNCLIFFE', 'FHT': 'FOREST HEIGHTS', 'HAY': 'HAYSBORO', 'CSC': 'CITYSCAPE', 'BLM': 'BELMONT', 'DOV': 'DOVER', 'MRT': 'MARTINDALE', 'WAL': 'WALDEN', 'VAR': 'VARSITY', 'COL': 'COLLINGWOOD', 'QLD': 'QUEENSLAND', 'WOO': 'WOODLANDS', 'OAK': 'OAKRIDGE', 'SOW': 'SOUTHWOOD', 'RDL': 'ROSEDALE', 'APP': 'APPLEWOOD PARK', 'RID': 'RIDEAU PARK', 'ARB': 'ARBOUR LAKE', 'BVD': 'BELVEDERE', 'CPF': 'COPPERFIELD', 'SIG': 'SIGNAL HILL', 'CAM': 'CAMBRIAN HEIGHTS', 'BRT': 'BRITANNIA', 'WBN': 'WOODBINE', 'RUN': 'RUNDLE', 'ERI': 'ERIN WOODS', 'PIN': 'PINERIDGE', 'HIW': 'HIGHWOOD', 'MAL': 'MAYLAND HEIGHTS', 'MAC': 'MACEWAN GLEN', 'DRG': 'DEER RIDGE', 'MOP': 'MOUNT PLEASANT', 'SOV': 'SOUTHVIEW', 'EDG': 'EDGEMONT', 'RED': 'RED CARPET', 'SSD': 'SUNNYSIDE', 'CAP': 'CAPITOL HILL', 'UMR': 'UPPER MOUNT ROYAL', 'SAD': 'SADDLE RIDGE', 'BED': 'BEDDINGTON HEIGHTS', 'PAT': 'PATTERSON', 'SOC': 'SOUTH CALGARY', 'COR': 'CORAL SPRINGS', 'EAU': 'EAU CLAIRE', 'MCK': 'MCKENZIE LAKE', 'MIS': 'MISSION', 'GBK': 'GLENBROOK', 'TUX': 'TUXEDO PARK', 'DNE': 'DOWNTOWN EAST VILLAGE', 'LPK': 'LINCOLN PARK', 'STR': 'STRATHCONA PARK', 'CHR': 'CHRISTIE PARK', 'SHG': 'SHAGANAPPI', 'ING': 'INGLEWOOD', 'SOM': 'SOMERSET', 'SAN': 'SANDSTONE VALLEY', 'SDC': 'SUNDANCE', 'ASP': 'ASPEN WOODS', 'UOC': 'UNIVERSITY OF CALGARY', 'WHL': 'WEST HILLHURST', 'RCK': 'ROSSCARROCK', 'CAN': 'CANYON MEADOWS', 'FAI': 'FAIRVIEW', 'BEL': 'BEL-AIRE', 'MOR': 'MONTEREY PARK', 'DIS': 'DISCOVERY RIDGE', 'HPK': 'HIGHLAND PARK', 'HUN': 'HUNTINGTON HILLS', 'GRV': 'GREENVIEW', 'SGH': 'SAGE HILL', 'MID': 'MIDNAPORE', 'STA': 'ST. ANDREWS HEIGHTS', 'EPK': 'ELBOW PARK', 'DRN': 'DEER RUN', 'BYV': 'BAYVIEW', 'WLD': 'WILDWOOD', 'MLR': 'MILLRISE', 'SET': 'SETON', 'CRA': 'CRANSTON', 'REN': 'RENFREW', 'ACA': 'ACADIA', 'COU': 'COUNTRY HILLS', 'BDO': 'BONAVISTA DOWNS', 'WGT': 'WESTGATE', 'LEG': 'LEGACY', 'CAR': 'CARRINGTON', 'KSH': 'KEYSTONE HILLS', 'RSN': 'REDSTONE', 'WSP': 'WEST SPRINGS', 'PUM': 'PUMP HILL', 'GDL': 'GLENDALE', 'CRE': 'CRESCENT HEIGHTS', 'LKB': 'LAKE BONAVISTA', 'DDG': 'DOUGLASDALE/GLEN', 'VAL': 'VALLEY RIDGE', 'UND': 'UNIVERSITY DISTRICT', 'SCE': 'SCENIC ACRES', 'HAW': 'HAWKWOOD', 'SIL': 'SILVER SPRINGS', 'SKR': 'SKYVIEW RANCH', 'CNS': 'CORNERSTONE', 'PCK': 'PINE CREEK', 'MAH': 'MAHOGANY', 'RAN': 'RANCHLANDS', 'LIV': 'LIVINGSTON', 'HAM': 'HAMPTONS', 'CIT': 'CITADEL', 'ROX': 'ROXBORO', 'SHN': 'SHAWNESSY', 'RIC': 'RICHMOND', 'UNI': 'UNIVERSITY HEIGHTS', 'FAL': 'FALCONRIDGE', 'CHK': 'CHINOOK PARK', 'WWO': 'WOLF WILLOW', 'YKV': 'YORKVILLE', 'FLN': 'FOREST LAWN', 'WIL': 'WILLOW PARK', 'ABB': 'ABBEYDALE', 'MON': 'MONTGOMERY', 'HAR': 'HARVEST HILLS', 'OGD': 'OGDEN', 'PEN': 'PENBROOKE MEADOWS', 'SHS': 'SHAWNEE SLOPES', 'BNF': 'BANFF TRAIL', 'SPH': 'SPRINGBANK HILL', 'PKH': 'PARKHILL', 'NHV': 'NORTH HAVEN', 'LKV': 'LAKEVIEW', 'VIS': 'VISTA HEIGHTS', 'GLA': 'GLAMORGAN', 'EYA': 'ELBOYA', 'CLI': 'CLIFF BUNGALOW', 'RIV': 'RIVERBEND', 'CHN': 'CHINATOWN', 'TEM': 'TEMPLE', 'BRA': 'BRAESIDE', 'WND': 'WINDSOR PARK', 'BOW': 'BOWNESS', 'WHI': 'WHITEHORN', 'PKD': 'PARKDALE', 'RMT': 'ROSEMONT', 'MPL': 'MAPLE RIDGE', 'BRE': 'BRENTWOOD', 'SCA': 'SCARBORO', 'POI': 'POINT MCKAY', 'RUT': 'RUTLAND PARK', 'RAM': 'RAMSAY', 'MRL': 'MARLBOROUGH', 'MAN': 'MANCHESTER', 'GAG': 'GARRISON GREEN', 'SPR': 'SPRUCE CLIFF', 'PKL': 'PARKLAND', 'CAS': 'CASTLERIDGE', 'DAL': 'DALHOUSIE', 'PAL': 'PALLISER', 'NGM': 'NORTH GLENMORE PARK', 'ALT': 'ALTADORE', 'CHW': 'CHARLESWOOD', 'CED': 'CEDARBRAE', 'SVO': 'SILVERADO', 'CRM': 'CRESTMONT', 'KCA': 'KINCORA', 'DNW': 'DOWNTOWN WEST END', 'LMR': 'LOWER MOUNT ROYAL', 'BNK': 'BANKVIEW', 'BLN': 'BELTLINE', 'HIL': 'HILLHURST', 'SNA': 'SUNALTA', 'NOL': 'NOLAN HILL', 'COV': 'COVENTRY HILLS', 'MDH': 'MEDICINE HILL', 'ROY': 'ROYAL OAK', 'TAR': 'TARADALE', 'CHV': 'COUNTRY HILLS VILLAGE', 'EVN': 'EVANSTON', 'CGR': 'COUGAR RIDGE', 'ROC': 'ROCKY RIDGE', 'TUS': 'TUSCANY', 'CHA': 'CHAPARRAL', 'NEB': 'NEW BRIGHTON', 'PAN': 'PANORAMA HILLS', 'SHW': 'SHERWOOD', 'BRI': 'BRIDLEWOOD', 'EVE': 'EVERGREEN', 'AUB': 'AUBURN BAY', 'MAF': 'MAYFAIR', 'EAG': 'EAGLE RIDGE', 'MEA': 'MEADOWLARK PARK', 'KEL': 'KELVIN GROVE', 'KIN': 'KINGSLAND'}\n"
     ]
    }
   ],
   "source": [
    "\"\"\" read csv file \"\"\"\n",
    "comm_data = pd.read_csv(\"../../../Data/final_calgary_communities.csv\")\n",
    "comm_data = comm_data.set_index(\"COMM_CODE\")[\"NAME\"].to_dict()\n",
    "print(comm_data)"
   ]
  },
  {
   "cell_type": "code",
   "execution_count": 19,
   "metadata": {},
   "outputs": [
    {
     "name": "stdout",
     "output_type": "stream",
     "text": [
      "['../CHR.png', '../DAL.png', '../QLD.png', '../MPL.png', '../NOL.png', '../BLM.png', '../RDL.png', '../BOW.png', '../UNI.png', '../UMR.png', '../ERL.png', '../WOO.png', '../STA.png', '../HAW.png', '../MDH.png', '../DNW.png', '../OGD.png', '../BNF.png', '../BLN.png', '../LMR.png', '../FAL.png', '../TEM.png', '../CIT.png', '../APP.png', '../DOV.png', '../DNE.png', '../CED.png', '../CRM.png', '../PIN.png', '../WLD.png', '../KIN.png', '../EDG.png', '../REN.png', '../KEL.png', '../WWO.png', '../WBN.png', '../BVD.png', '../MRT.png', '../FAI.png', '../FLN.png', '../SVO.png', '../SOM.png', '../THO.png', '../CHW.png', '../SAD.png', '../STR.png', '../CPF.png', '../PEN.png', '../PKD.png', '../ERI.png', '../HAR.png', '../CHA.png', '../CHV.png', '../MAF.png', '../COU.png', '../DIS.png', '../HPK.png', '../DRN.png', '../WHI.png', '../RCK.png', '../WIL.png', '../BRI.png', '../FHT.png', '../TAR.png', '../COA.png', '../SHN.png', '../COV.png', '../MON.png', '../SSD.png', '../SPH.png', '../VAR.png', '../EVE.png', '../PCK.png', '../PAT.png', '../RMT.png', '../POI.png', '../ACA.png', '../CNS.png', '../ROX.png', '../LKB.png', '../ROY.png', '../utils', '../CAN.png', '../COR.png', '../CLI.png', '../SIL.png', '../MAC.png', '../DIA.png', '../MCK.png', '../TUS.png', '../HIL.png', '../ABB.png', '../WHL.png', '../WGT.png', '../BED.png', '../LKV.png', '../WSP.png', '../LPK.png', '../RUT.png', '../MLR.png', '../DDG.png', '../CAM.png', '../SKR.png', '../SHS.png', '../SET.png', '../DRG.png', '../HIW.png', '../BRA.png', '../NGM.png', '../RUN.png', '../KCA.png', '../LEG.png', '../EAG.png', '../PUM.png', '../EYA.png', '../EVN.png', '../MOR.png', '../MAN.png', '../MAL.png', '../SHG.png', '../MOP.png', '../SGH.png', '../VAL.png', '../GAG.png', '../NHV.png', '../GBK.png', '../ING.png', '../ROC.png', '../BDO.png', '../YKV.png', '../BRT.png', '../GLA.png', '../ALT.png', '../OAK.png', '../RAM.png', '../PAN.png', '../NEB.png', '../TUX.png', '../SPR.png', '../CAP.png', '../SIG.png', '../MAH.png', '../COL.png', '../AUB.png', '../CAR.png', '../PAL.png', '../RAN.png', '../LIV.png', '../EAU.png', '../BEL.png', '../BRE.png', '../SDC.png', '../CAS.png', '../SHW.png', '../SOC.png', '../WAL.png', '../RIC.png', '../PKH.png', '../MRL.png', '../SCA.png', '../SOW.png', '../ASP.png', '../HUN.png', '../MIS.png', '../MID.png', '../CRA.png', '../VIS.png', '../RSN.png', '../RIV.png', '../CHN.png', '../SOV.png', '../ARB.png', '../SNA.png', '../SAN.png', '../CGR.png', '../HAY.png', '../UOC.png', '../RID.png', '../GRV.png', '../BNK.png', '../KSH.png', '../GDL.png', '../WND.png', '../EPK.png', '../CRE.png', '../CHK.png', '../MEA.png', '../SCE.png', '../CSC.png', '../HAM.png', '../PKL.png', '../UND.png', '../RED.png', '../BYV.png']\n"
     ]
    }
   ],
   "source": [
    "\"\"\" create dictionary of pictures to access \"\"\"\n",
    "pictures = glob.glob(\"../*\") # list of pictures\n",
    "print(pictures)\n",
    "picture_data = get_community_data(pictures, comm_data)\n",
    "\n",
    "export_to_json(\"communities.json\", picture_data)"
   ]
  }
 ],
 "metadata": {
  "kernelspec": {
   "display_name": "Python 3",
   "language": "python",
   "name": "python3"
  },
  "language_info": {
   "codemirror_mode": {
    "name": "ipython",
    "version": 3
   },
   "file_extension": ".py",
   "mimetype": "text/x-python",
   "name": "python",
   "nbconvert_exporter": "python",
   "pygments_lexer": "ipython3",
   "version": "3.11.3"
  },
  "orig_nbformat": 4
 },
 "nbformat": 4,
 "nbformat_minor": 2
}
